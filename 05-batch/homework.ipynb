{
 "cells": [
  {
   "cell_type": "markdown",
   "id": "740f3750-86ef-44e1-aef3-7a30fa894e70",
   "metadata": {},
   "source": [
    "## Week 5 Homework \n",
    "\n",
    "In this homework we'll put what we learned about Spark in practice.\n",
    "\n",
    "For this homework we will be using the FHV 2019-10 data found here. [FHV Data](https://github.com/DataTalksClub/nyc-tlc-data/releases/download/fhv/fhv_tripdata_2019-10.csv.gz)"
   ]
  },
  {
   "cell_type": "markdown",
   "id": "c896c079-cc4c-4f03-b56b-fd3229473c3c",
   "metadata": {},
   "source": [
    "### Question 1\n",
    "\n",
    "**Install Spark and PySpark** \n",
    "\n",
    "- Install Spark\n",
    "- Run PySpark\n",
    "- Create a local spark session\n",
    "- Execute spark.version.\n",
    "\n",
    "What's the output?"
   ]
  },
  {
   "cell_type": "code",
   "execution_count": 4,
   "id": "430f567a-e90e-4a2b-9912-91877919d894",
   "metadata": {
    "execution": {
     "iopub.execute_input": "2024-03-01T02:55:45.673978Z",
     "iopub.status.busy": "2024-03-01T02:55:45.673180Z",
     "iopub.status.idle": "2024-03-01T02:55:45.678634Z",
     "shell.execute_reply": "2024-03-01T02:55:45.677605Z",
     "shell.execute_reply.started": "2024-03-01T02:55:45.673949Z"
    }
   },
   "outputs": [],
   "source": [
    "import pyspark\n",
    "from pyspark.sql import SparkSession\n",
    "from pyspark.sql import types"
   ]
  },
  {
   "cell_type": "code",
   "execution_count": 2,
   "id": "b3679d10-9922-44bf-8c5a-384bfd7134a6",
   "metadata": {
    "execution": {
     "iopub.execute_input": "2024-03-01T02:44:57.797688Z",
     "iopub.status.busy": "2024-03-01T02:44:57.797181Z",
     "iopub.status.idle": "2024-03-01T02:45:01.294761Z",
     "shell.execute_reply": "2024-03-01T02:45:01.293884Z",
     "shell.execute_reply.started": "2024-03-01T02:44:57.797633Z"
    }
   },
   "outputs": [
    {
     "name": "stderr",
     "output_type": "stream",
     "text": [
      "24/03/01 02:44:59 WARN Utils: Your hostname, vml-mle-nic resolves to a loopback address: 127.0.1.1; using 10.11.11.81 instead (on interface enp0s6)\n",
      "24/03/01 02:44:59 WARN Utils: Set SPARK_LOCAL_IP if you need to bind to another address\n",
      "Setting default log level to \"WARN\".\n",
      "To adjust logging level use sc.setLogLevel(newLevel). For SparkR, use setLogLevel(newLevel).\n",
      "24/03/01 02:44:59 WARN NativeCodeLoader: Unable to load native-hadoop library for your platform... using builtin-java classes where applicable\n"
     ]
    },
    {
     "data": {
      "text/plain": [
       "'3.5.1'"
      ]
     },
     "execution_count": 2,
     "metadata": {},
     "output_type": "execute_result"
    }
   ],
   "source": [
    "spark = SparkSession.builder \\\n",
    "    .master(\"local[*]\") \\\n",
    "    .appName('homework') \\\n",
    "    .getOrCreate()\n",
    "\n",
    "spark.version"
   ]
  },
  {
   "cell_type": "markdown",
   "id": "4d4c5575-5282-4707-97b3-f719594ad849",
   "metadata": {},
   "source": [
    "### Question 2\n",
    "\n",
    "**FHV October 2019**\n",
    "\n",
    "Read the October 2019 FHV into a Spark Dataframe with a schema as we did in the lessons.\n",
    "\n",
    "Repartition the Dataframe to 6 partitions and save it to parquet.\n",
    "\n",
    "What is the average size of the Parquet (ending with .parquet extension) Files that were created (in MB)? Select the answer which most closely matches.\n",
    "\n",
    "- 1MB\n",
    "- 6MB\n",
    "- 25MB\n",
    "- 87MB"
   ]
  },
  {
   "cell_type": "code",
   "execution_count": 5,
   "id": "cd4267d2-b23b-4a03-b601-991accbf19dd",
   "metadata": {
    "execution": {
     "iopub.execute_input": "2024-03-01T02:55:48.676692Z",
     "iopub.status.busy": "2024-03-01T02:55:48.676353Z",
     "iopub.status.idle": "2024-03-01T02:55:48.683946Z",
     "shell.execute_reply": "2024-03-01T02:55:48.682051Z",
     "shell.execute_reply.started": "2024-03-01T02:55:48.676667Z"
    }
   },
   "outputs": [],
   "source": [
    "schema = types.StructType([\n",
    "    types.StructField('dispatching_base_num', types.StringType(), True),\n",
    "    types.StructField('pickup_datetime', types.TimestampType(), True),\n",
    "    types.StructField('dropoff_datetime', types.TimestampType(), True),\n",
    "    types.StructField('PULocationID', types.IntegerType(), True),\n",
    "    types.StructField('DOLocationID', types.IntegerType(), True),\n",
    "    types.StructField('SR_Flag', types.StringType(), True),\n",
    "    types.StructField('Affiliated_base_number', types.StringType(), True),\n",
    "])"
   ]
  },
  {
   "cell_type": "code",
   "execution_count": 7,
   "id": "216217b9-342f-4b6e-b3a7-09767bc1db42",
   "metadata": {
    "execution": {
     "iopub.execute_input": "2024-03-01T02:56:02.711562Z",
     "iopub.status.busy": "2024-03-01T02:56:02.710533Z",
     "iopub.status.idle": "2024-03-01T02:56:03.432313Z",
     "shell.execute_reply": "2024-03-01T02:56:03.431296Z",
     "shell.execute_reply.started": "2024-03-01T02:56:02.711528Z"
    }
   },
   "outputs": [],
   "source": [
    "df = spark.read \\\n",
    "    .option(\"header\", \"true\") \\\n",
    "    .schema(schema) \\\n",
    "    .csv('fhv_tripdata_2019-10.csv')"
   ]
  },
  {
   "cell_type": "code",
   "execution_count": 8,
   "id": "2b7bb33c-0576-4f45-8199-02d1f0e638b2",
   "metadata": {
    "execution": {
     "iopub.execute_input": "2024-03-01T02:56:15.391863Z",
     "iopub.status.busy": "2024-03-01T02:56:15.391528Z",
     "iopub.status.idle": "2024-03-01T02:56:18.176555Z",
     "shell.execute_reply": "2024-03-01T02:56:18.175423Z",
     "shell.execute_reply.started": "2024-03-01T02:56:15.391839Z"
    }
   },
   "outputs": [
    {
     "name": "stdout",
     "output_type": "stream",
     "text": [
      "+--------------------+-------------------+-------------------+------------+------------+-------+----------------------+\n",
      "|dispatching_base_num|    pickup_datetime|   dropoff_datetime|PULocationID|DOLocationID|SR_Flag|Affiliated_base_number|\n",
      "+--------------------+-------------------+-------------------+------------+------------+-------+----------------------+\n",
      "|              B00009|2019-10-01 00:23:00|2019-10-01 00:35:00|         264|         264|   NULL|                B00009|\n",
      "|              B00013|2019-10-01 00:11:29|2019-10-01 00:13:22|         264|         264|   NULL|                B00013|\n",
      "|              B00014|2019-10-01 00:11:43|2019-10-01 00:37:20|         264|         264|   NULL|                B00014|\n",
      "|              B00014|2019-10-01 00:56:29|2019-10-01 00:57:47|         264|         264|   NULL|                B00014|\n",
      "|              B00014|2019-10-01 00:23:09|2019-10-01 00:28:27|         264|         264|   NULL|                B00014|\n",
      "|     B00021         |2019-10-01 00:00:48|2019-10-01 00:07:12|         129|         129|   NULL|       B00021         |\n",
      "|     B00021         |2019-10-01 00:47:23|2019-10-01 00:53:25|          57|          57|   NULL|       B00021         |\n",
      "|     B00021         |2019-10-01 00:10:06|2019-10-01 00:19:50|         173|         173|   NULL|       B00021         |\n",
      "|     B00021         |2019-10-01 00:51:37|2019-10-01 01:06:14|         226|         226|   NULL|       B00021         |\n",
      "|     B00021         |2019-10-01 00:28:23|2019-10-01 00:34:33|          56|          56|   NULL|       B00021         |\n",
      "|     B00021         |2019-10-01 00:31:17|2019-10-01 00:51:52|          82|          82|   NULL|       B00021         |\n",
      "|              B00037|2019-10-01 00:07:41|2019-10-01 00:15:23|         264|          71|   NULL|                B00037|\n",
      "|              B00037|2019-10-01 00:13:38|2019-10-01 00:25:51|         264|          39|   NULL|                B00037|\n",
      "|              B00037|2019-10-01 00:42:40|2019-10-01 00:53:47|         264|         188|   NULL|                B00037|\n",
      "|              B00037|2019-10-01 00:58:46|2019-10-01 01:10:11|         264|          91|   NULL|                B00037|\n",
      "|              B00037|2019-10-01 00:09:49|2019-10-01 00:14:37|         264|          71|   NULL|                B00037|\n",
      "|              B00037|2019-10-01 00:22:35|2019-10-01 00:36:53|         264|          35|   NULL|                B00037|\n",
      "|              B00037|2019-10-01 00:54:27|2019-10-01 01:03:37|         264|          61|   NULL|                B00037|\n",
      "|              B00037|2019-10-01 00:08:12|2019-10-01 00:28:47|         264|         198|   NULL|                B00037|\n",
      "|              B00053|2019-10-01 00:05:24|2019-10-01 00:53:03|         264|         264|   NULL|                  #N/A|\n",
      "+--------------------+-------------------+-------------------+------------+------------+-------+----------------------+\n",
      "only showing top 20 rows\n",
      "\n"
     ]
    }
   ],
   "source": [
    "df.show()"
   ]
  },
  {
   "cell_type": "code",
   "execution_count": 9,
   "id": "a13dc945-6fff-4f32-9a00-fbc36b404385",
   "metadata": {
    "execution": {
     "iopub.execute_input": "2024-03-01T02:57:17.649212Z",
     "iopub.status.busy": "2024-03-01T02:57:17.648875Z",
     "iopub.status.idle": "2024-03-01T02:57:24.018665Z",
     "shell.execute_reply": "2024-03-01T02:57:24.017934Z",
     "shell.execute_reply.started": "2024-03-01T02:57:17.649189Z"
    }
   },
   "outputs": [
    {
     "name": "stderr",
     "output_type": "stream",
     "text": [
      "                                                                                \r"
     ]
    }
   ],
   "source": [
    "df = df.repartition(6)\n",
    "df.write.parquet('data/fhv/2019/10/')"
   ]
  },
  {
   "cell_type": "code",
   "execution_count": 10,
   "id": "d563f979-cc6d-4a82-baca-432407da3896",
   "metadata": {
    "execution": {
     "iopub.execute_input": "2024-03-01T02:57:53.697501Z",
     "iopub.status.busy": "2024-03-01T02:57:53.696914Z",
     "iopub.status.idle": "2024-03-01T02:57:54.012325Z",
     "shell.execute_reply": "2024-03-01T02:57:54.010682Z",
     "shell.execute_reply.started": "2024-03-01T02:57:53.697472Z"
    }
   },
   "outputs": [
    {
     "name": "stdout",
     "output_type": "stream",
     "text": [
      "total 37M\n",
      "-rw-r--r-- 1 ubuntu ubuntu    0 Mar  1 02:57 _SUCCESS\n",
      "-rw-r--r-- 1 ubuntu ubuntu 6.2M Mar  1 02:57 part-00000-406df01e-1b9f-490d-a478-a2064447a343-c000.snappy.parquet\n",
      "-rw-r--r-- 1 ubuntu ubuntu 6.2M Mar  1 02:57 part-00001-406df01e-1b9f-490d-a478-a2064447a343-c000.snappy.parquet\n",
      "-rw-r--r-- 1 ubuntu ubuntu 6.2M Mar  1 02:57 part-00002-406df01e-1b9f-490d-a478-a2064447a343-c000.snappy.parquet\n",
      "-rw-r--r-- 1 ubuntu ubuntu 6.2M Mar  1 02:57 part-00003-406df01e-1b9f-490d-a478-a2064447a343-c000.snappy.parquet\n",
      "-rw-r--r-- 1 ubuntu ubuntu 6.2M Mar  1 02:57 part-00004-406df01e-1b9f-490d-a478-a2064447a343-c000.snappy.parquet\n",
      "-rw-r--r-- 1 ubuntu ubuntu 6.2M Mar  1 02:57 part-00005-406df01e-1b9f-490d-a478-a2064447a343-c000.snappy.parquet\n"
     ]
    }
   ],
   "source": [
    "!ls -lh data/fhv/2019/10/"
   ]
  },
  {
   "cell_type": "markdown",
   "id": "ef67ab52-1d72-4746-bb43-3701fa2366c0",
   "metadata": {},
   "source": [
    "### Question 3\n",
    "\n",
    "**Count records** \n",
    "\n",
    "How many taxi trips were there on the 15th of October?\n",
    "\n",
    "Consider only trips that started on the 15th of October.\n",
    "\n",
    "- 108,164\n",
    "- 12,856\n",
    "- 452,470\n",
    "- 62,610\n",
    "\n",
    "> [!IMPORTANT]\n",
    "> Be aware of columns order when defining schema"
   ]
  },
  {
   "cell_type": "code",
   "execution_count": 12,
   "id": "62084306-2b73-46d0-855b-23df7c6efba4",
   "metadata": {
    "execution": {
     "iopub.execute_input": "2024-03-01T03:00:35.918473Z",
     "iopub.status.busy": "2024-03-01T03:00:35.917790Z",
     "iopub.status.idle": "2024-03-01T03:00:36.687237Z",
     "shell.execute_reply": "2024-03-01T03:00:36.686298Z",
     "shell.execute_reply.started": "2024-03-01T03:00:35.918440Z"
    }
   },
   "outputs": [
    {
     "name": "stdout",
     "output_type": "stream",
     "text": [
      "+--------+\n",
      "|count(1)|\n",
      "+--------+\n",
      "|   62610|\n",
      "+--------+\n",
      "\n"
     ]
    }
   ],
   "source": [
    "df = spark.read.parquet('data/fhv/2019/10/')\n",
    "\n",
    "from pyspark.sql import functions as F\n",
    "\n",
    "df.withColumn('pickup_date', F.to_date(df.pickup_datetime)) \\\n",
    "    .filter(\"pickup_date = '2019-10-15'\") \\\n",
    "    .count()\n",
    "# 452,470\n",
    "\n",
    "df.createOrReplaceTempView('fhv_2019_10')\n",
    "spark.sql(\"\"\"\n",
    "SELECT\n",
    "    COUNT(1)\n",
    "FROM\n",
    "    fhv_2019_10\n",
    "WHERE\n",
    "    to_date(pickup_datetime) = '2019-10-15';\n",
    "\"\"\").show()"
   ]
  },
  {
   "cell_type": "markdown",
   "id": "bf7f0180-f541-47ea-933c-166af12f9e9e",
   "metadata": {},
   "source": [
    "### Question 4\n",
    "\n",
    "**Longest trip for each day** \n",
    "\n",
    "What is the length of the longest trip in the dataset in hours?\n",
    "\n",
    "- 631,152.50 Hours\n",
    "- 243.44 Hours\n",
    "- 7.68 Hours\n",
    "- 3.32 Hours"
   ]
  },
  {
   "cell_type": "code",
   "execution_count": 13,
   "id": "30a41e65-c7df-45a4-90f2-76eba08fc549",
   "metadata": {
    "execution": {
     "iopub.execute_input": "2024-03-01T03:01:10.767859Z",
     "iopub.status.busy": "2024-03-01T03:01:10.767517Z",
     "iopub.status.idle": "2024-03-01T03:01:10.775550Z",
     "shell.execute_reply": "2024-03-01T03:01:10.774250Z",
     "shell.execute_reply.started": "2024-03-01T03:01:10.767835Z"
    }
   },
   "outputs": [
    {
     "data": {
      "text/plain": [
       "['dispatching_base_num',\n",
       " 'pickup_datetime',\n",
       " 'dropoff_datetime',\n",
       " 'PULocationID',\n",
       " 'DOLocationID',\n",
       " 'SR_Flag',\n",
       " 'Affiliated_base_number']"
      ]
     },
     "execution_count": 13,
     "metadata": {},
     "output_type": "execute_result"
    }
   ],
   "source": [
    "df.columns"
   ]
  },
  {
   "cell_type": "code",
   "execution_count": 14,
   "id": "b2fd2668-8efb-481c-91f5-68580a56d196",
   "metadata": {
    "execution": {
     "iopub.execute_input": "2024-03-01T03:04:54.753619Z",
     "iopub.status.busy": "2024-03-01T03:04:54.752991Z",
     "iopub.status.idle": "2024-03-01T03:04:55.918061Z",
     "shell.execute_reply": "2024-03-01T03:04:55.917223Z",
     "shell.execute_reply.started": "2024-03-01T03:04:54.753591Z"
    }
   },
   "outputs": [
    {
     "name": "stdout",
     "output_type": "stream",
     "text": [
      "+-----------+-----------------+\n",
      "|pickup_date|    max(duration)|\n",
      "+-----------+-----------------+\n",
      "| 2019-10-28|         631152.5|\n",
      "| 2019-10-11|         631152.5|\n",
      "| 2019-10-31|87672.44083333334|\n",
      "| 2019-10-01|70128.02805555557|\n",
      "| 2019-10-17|           8794.0|\n",
      "+-----------+-----------------+\n",
      "\n"
     ]
    }
   ],
   "source": [
    "df.withColumn('duration', (df.dropoff_datetime.cast('long') - df.pickup_datetime.cast('long'))/60/60) \\\n",
    "    .withColumn('pickup_date', F.to_date(df.pickup_datetime)) \\\n",
    "    .groupBy('pickup_date') \\\n",
    "        .max('duration') \\\n",
    "    .orderBy('max(duration)', ascending=False) \\\n",
    "    .limit(5) \\\n",
    "    .show()"
   ]
  },
  {
   "cell_type": "code",
   "execution_count": 15,
   "id": "533bd3b4-a707-42b8-a101-4cc63ff8e04f",
   "metadata": {
    "execution": {
     "iopub.execute_input": "2024-03-01T03:05:33.073552Z",
     "iopub.status.busy": "2024-03-01T03:05:33.072852Z",
     "iopub.status.idle": "2024-03-01T03:05:33.739601Z",
     "shell.execute_reply": "2024-03-01T03:05:33.738759Z",
     "shell.execute_reply.started": "2024-03-01T03:05:33.073521Z"
    }
   },
   "outputs": [
    {
     "name": "stdout",
     "output_type": "stream",
     "text": [
      "+-----------+------------------+\n",
      "|pickup_date|          duration|\n",
      "+-----------+------------------+\n",
      "| 2019-10-28|          631152.5|\n",
      "| 2019-10-11|          631152.5|\n",
      "| 2019-10-31| 87672.44083333334|\n",
      "| 2019-10-01| 70128.02805555557|\n",
      "| 2019-10-17|            8794.0|\n",
      "| 2019-10-26| 8784.166666666666|\n",
      "| 2019-10-30|1464.5344444444445|\n",
      "| 2019-10-25|1056.8266666666666|\n",
      "| 2019-10-02| 769.2313888888889|\n",
      "| 2019-10-23| 745.6166666666667|\n",
      "+-----------+------------------+\n",
      "\n"
     ]
    }
   ],
   "source": [
    "spark.sql(\"\"\"\n",
    "SELECT\n",
    "    to_date(pickup_datetime) AS pickup_date,\n",
    "    MAX((CAST(dropoff_datetime AS LONG) - CAST(pickup_datetime AS LONG)) / 60 / 60) AS duration\n",
    "FROM\n",
    "    fhv_2019_10\n",
    "GROUP BY\n",
    "    1\n",
    "ORDER BY\n",
    "    2 DESC\n",
    "LIMIT 10;\n",
    "\"\"\").show()"
   ]
  },
  {
   "cell_type": "markdown",
   "id": "49fda199-138b-4c7d-b813-8af009b7fd90",
   "metadata": {},
   "source": [
    "### Question 5: \n",
    "\n",
    "**User Interface**\n",
    "\n",
    "Spark’s User Interface which shows the application's dashboard runs on which local port?\n",
    "\n",
    "- 80\n",
    "- 443\n",
    "- 4040\n",
    "- 8080"
   ]
  },
  {
   "cell_type": "markdown",
   "id": "4c1aae91-04eb-4548-8c17-c00c948795ba",
   "metadata": {},
   "source": [
    "![Spark UI](images/spark-ui.png)\n",
    "\n",
    "Source: https://spark.apache.org/docs/latest/monitoring.html"
   ]
  },
  {
   "cell_type": "markdown",
   "id": "586af558-512f-472d-99a8-42c48eaaba50",
   "metadata": {},
   "source": [
    "### Question 6: \n",
    "\n",
    "**Least frequent pickup location zone**\n",
    "\n",
    "Load the zone lookup data into a temp view in Spark</br>\n",
    "[Zone Data](https://github.com/DataTalksClub/nyc-tlc-data/releases/download/misc/taxi_zone_lookup.csv)\n",
    "\n",
    "Using the zone lookup data and the FHV October 2019 data, what is the name of the LEAST frequent pickup location Zone?</br>\n",
    "\n",
    "- East Chelsea\n",
    "- Jamaica Bay\n",
    "- Union Sq\n",
    "- Crown Heights North"
   ]
  },
  {
   "cell_type": "code",
   "execution_count": 16,
   "id": "951de72f-363a-4789-9af4-02d2ac484f5e",
   "metadata": {
    "execution": {
     "iopub.execute_input": "2024-03-01T03:09:26.168078Z",
     "iopub.status.busy": "2024-03-01T03:09:26.167716Z",
     "iopub.status.idle": "2024-03-01T03:09:26.314473Z",
     "shell.execute_reply": "2024-03-01T03:09:26.313328Z",
     "shell.execute_reply.started": "2024-03-01T03:09:26.168044Z"
    }
   },
   "outputs": [
    {
     "data": {
      "text/plain": [
       "['LocationID', 'Borough', 'Zone', 'service_zone']"
      ]
     },
     "execution_count": 16,
     "metadata": {},
     "output_type": "execute_result"
    }
   ],
   "source": [
    "df_zones = spark.read.parquet('zones')\n",
    "df_zones.columns"
   ]
  },
  {
   "cell_type": "code",
   "execution_count": 19,
   "id": "cd10f7a6-a87e-4f0e-9e67-c126897d462a",
   "metadata": {
    "execution": {
     "iopub.execute_input": "2024-03-01T03:11:49.879181Z",
     "iopub.status.busy": "2024-03-01T03:11:49.878573Z",
     "iopub.status.idle": "2024-03-01T03:11:50.543270Z",
     "shell.execute_reply": "2024-03-01T03:11:50.542269Z",
     "shell.execute_reply.started": "2024-03-01T03:11:49.879153Z"
    }
   },
   "outputs": [
    {
     "name": "stdout",
     "output_type": "stream",
     "text": [
      "+--------------------+--------+\n",
      "|                Zone|count(1)|\n",
      "+--------------------+--------+\n",
      "|         Jamaica Bay|       1|\n",
      "|Governor's Island...|       2|\n",
      "| Green-Wood Cemetery|       5|\n",
      "|       Broad Channel|       8|\n",
      "|     Highbridge Park|      14|\n",
      "|        Battery Park|      15|\n",
      "|Saint Michaels Ce...|      23|\n",
      "|Breezy Point/Fort...|      25|\n",
      "|Marine Park/Floyd...|      26|\n",
      "|        Astoria Park|      29|\n",
      "|    Inwood Hill Park|      39|\n",
      "|       Willets Point|      47|\n",
      "|Forest Park/Highl...|      53|\n",
      "|  Brooklyn Navy Yard|      57|\n",
      "|        Crotona Park|      62|\n",
      "|        Country Club|      77|\n",
      "|     Freshkills Park|      89|\n",
      "|       Prospect Park|      98|\n",
      "|     Columbia Street|     105|\n",
      "|  South Williamsburg|     110|\n",
      "+--------------------+--------+\n",
      "only showing top 20 rows\n",
      "\n"
     ]
    }
   ],
   "source": [
    "df_zones.createOrReplaceTempView(\"zones\")\n",
    "spark.sql(\"\"\"\n",
    "SELECT zones.Zone, COUNT(1)\n",
    "FROM\n",
    "    fhv_2019_10 fhv\n",
    "    LEFT JOIN zones ON fhv.PULocationID = zones.LocationID\n",
    "GROUP BY 1\n",
    "ORDER BY 2 ASC;\n",
    "\"\"\").show()"
   ]
  },
  {
   "cell_type": "code",
   "execution_count": null,
   "id": "53828f96-c4d9-42bf-83ef-51b846fc5514",
   "metadata": {},
   "outputs": [],
   "source": []
  }
 ],
 "metadata": {
  "kernelspec": {
   "display_name": "Python 3 (de)",
   "language": "python",
   "name": "de"
  },
  "language_info": {
   "codemirror_mode": {
    "name": "ipython",
    "version": 3
   },
   "file_extension": ".py",
   "mimetype": "text/x-python",
   "name": "python",
   "nbconvert_exporter": "python",
   "pygments_lexer": "ipython3",
   "version": "3.10.13"
  }
 },
 "nbformat": 4,
 "nbformat_minor": 5
}
